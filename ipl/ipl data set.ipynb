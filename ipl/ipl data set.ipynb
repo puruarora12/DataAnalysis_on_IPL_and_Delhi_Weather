{
 "cells": [
  {
   "cell_type": "markdown",
   "metadata": {},
   "source": [
    "# Question 1"
   ]
  },
  {
   "cell_type": "code",
   "execution_count": 36,
   "metadata": {},
   "outputs": [],
   "source": [
    "import pandas\n",
    "import numpy\n",
    "import pprint"
   ]
  },
  {
   "cell_type": "code",
   "execution_count": 37,
   "metadata": {
    "scrolled": false
   },
   "outputs": [],
   "source": [
    "matches_file = pandas.read_csv('matches.csv')\n",
    "delivery_file = pandas.read_csv('deliveries.csv')"
   ]
  },
  {
   "cell_type": "code",
   "execution_count": 38,
   "metadata": {},
   "outputs": [
    {
     "name": "stdout",
     "output_type": "stream",
     "text": [
      "The chasing team with highest wins is : Kolkata Knight Riders\n",
      "The chasing team with maximum losses is : Delhi Daredevils\n"
     ]
    }
   ],
   "source": [
    "#Task 1 , chasing team maximum win/loss \n",
    "\n",
    "winnerdata = matches_file[matches_file['team2']==matches_file['winner']]\n",
    "team2data = matches_file['team2'].value_counts()\n",
    "gd =winnerdata['team2'].value_counts()\n",
    "print(f\"The chasing team with highest wins is : {gd.index[0]}\")\n",
    "print(f\"The chasing team with maximum losses is : {str((team2data-gd).sort_values().index[len(team2data-gd)-1])}\")"
   ]
  },
  {
   "cell_type": "code",
   "execution_count": null,
   "metadata": {},
   "outputs": [],
   "source": []
  },
  {
   "cell_type": "markdown",
   "metadata": {},
   "source": [
    "# question 2"
   ]
  },
  {
   "cell_type": "code",
   "execution_count": 39,
   "metadata": {},
   "outputs": [
    {
     "name": "stdout",
     "output_type": "stream",
     "text": [
      "0-->ACA-VDCA Stadium-->Bating\n",
      "1-->Barabati Stadium-->Bating\n",
      "2-->Brabourne Stadium-->Bating\n",
      "3-->Buffalo Park-->Bating\n",
      "4-->De Beers Diamond Oval-->Fielding\n",
      "5-->Dr DY Patil Sports Academy-->Fielding\n",
      "6-->Dr. Y.S. Rajasekhara Reddy ACA-VDCA Cricket Stadium-->Bating\n",
      "7-->Dubai International Cricket Stadium-->Fielding\n",
      "8-->Eden Gardens-->Fielding\n",
      "9-->Feroz Shah Kotla-->Fielding\n",
      "10-->Feroz Shah Kotla Ground-->Fielding\n",
      "11-->Green Park-->Bating\n",
      "12-->Himachal Pradesh Cricket Association Stadium-->Bating\n",
      "13-->Holkar Cricket Stadium-->Fielding\n",
      "14-->IS Bindra Stadium-->Fielding\n",
      "15-->JSCA International Stadium Complex-->Fielding\n",
      "16-->Kingsmead-->Bating\n",
      "17-->M Chinnaswamy Stadium-->Fielding\n",
      "18-->M. A. Chidambaram Stadium-->Bating\n",
      "19-->M. Chinnaswamy Stadium-->Bating\n",
      "20-->MA Chidambaram Stadium, Chepauk-->Bating\n",
      "21-->Maharashtra Cricket Association Stadium-->Fielding\n",
      "22-->Nehru Stadium-->Bating\n",
      "23-->New Wanderers Stadium-->Fielding\n",
      "24-->Newlands-->Bating\n",
      "25-->OUTsurance Oval-->Bating\n",
      "26-->Punjab Cricket Association IS Bindra Stadium, Mohali-->Bating\n",
      "27-->Punjab Cricket Association Stadium, Mohali-->Fielding\n",
      "28-->Rajiv Gandhi International Stadium, Uppal-->Fielding\n",
      "29-->Rajiv Gandhi Intl. Cricket Stadium-->Bating\n",
      "30-->Sardar Patel Stadium, Motera-->Bating\n",
      "31-->Saurashtra Cricket Association Stadium-->Fielding\n",
      "32-->Sawai Mansingh Stadium-->Fielding\n",
      "33-->Shaheed Veer Narayan Singh International Stadium-->Fielding\n",
      "34-->Sharjah Cricket Stadium-->Fielding\n",
      "35-->Sheikh Zayed Stadium-->Bating\n",
      "36-->St George's Park-->Fielding\n",
      "37-->Subrata Roy Sahara Stadium-->Bating\n",
      "38-->SuperSport Park-->Fielding\n",
      "39-->Vidarbha Cricket Association Stadium, Jamtha-->Bating\n",
      "40-->Wankhede Stadium-->Fielding\n"
     ]
    }
   ],
   "source": [
    "windif =(matches_file[matches_file['team2']==matches_file['winner']]['venue'].value_counts().sort_index())-(matches_file[matches_file['team1']==matches_file['winner']]['venue'].value_counts().sort_index())\n",
    "for i in range(len(windif)):\n",
    "    if windif[i]>0 or windif[i]=='nan':\n",
    "        print(i, windif.index[i] , \"Fielding\" , sep=\"-->\")\n",
    "    else:\n",
    "        print(i, windif.index[i] ,\"Bating\" ,sep=\"-->\")\n"
   ]
  },
  {
   "cell_type": "code",
   "execution_count": null,
   "metadata": {},
   "outputs": [],
   "source": []
  },
  {
   "cell_type": "markdown",
   "metadata": {},
   "source": [
    "# Question 3"
   ]
  },
  {
   "cell_type": "code",
   "execution_count": 40,
   "metadata": {},
   "outputs": [
    {
     "name": "stdout",
     "output_type": "stream",
     "text": [
      "YK Pathan\n"
     ]
    }
   ],
   "source": [
    "print(matches_file[matches_file['team2']==matches_file['winner']]['player_of_match'].value_counts().index[0])   "
   ]
  },
  {
   "cell_type": "code",
   "execution_count": null,
   "metadata": {},
   "outputs": [],
   "source": []
  },
  {
   "cell_type": "markdown",
   "metadata": {},
   "source": [
    "# Question 4"
   ]
  },
  {
   "cell_type": "code",
   "execution_count": 41,
   "metadata": {},
   "outputs": [
    {
     "name": "stdout",
     "output_type": "stream",
     "text": [
      "V Kohli\n"
     ]
    }
   ],
   "source": [
    "print(delivery_file[ (delivery_file['total_runs']==0) & (delivery_file['player_dismissed'].isnull()) ]['batsman'].value_counts().index[0])"
   ]
  },
  {
   "cell_type": "code",
   "execution_count": null,
   "metadata": {},
   "outputs": [],
   "source": []
  },
  {
   "cell_type": "markdown",
   "metadata": {},
   "source": [
    "# Question 5"
   ]
  },
  {
   "cell_type": "code",
   "execution_count": 42,
   "metadata": {},
   "outputs": [
    {
     "name": "stdout",
     "output_type": "stream",
     "text": [
      "A Nel\n",
      "C Ganapathy\n",
      "TP Sudhindra\n",
      "BW Hilfenhaus\n"
     ]
    }
   ],
   "source": [
    "groups = delivery_file[['match_id','non_striker' , 'batsman'] ]\n",
    "nonstrike=groups['non_striker'].value_counts()\n",
    "strike=groups['batsman'].value_counts()\n",
    "for i in range(len(nonstrike)):\n",
    "    if nonstrike.index[i] not in strike.index:\n",
    "        print(nonstrike.index[i])\n"
   ]
  },
  {
   "cell_type": "markdown",
   "metadata": {},
   "source": [
    "# Question 6"
   ]
  },
  {
   "cell_type": "code",
   "execution_count": 43,
   "metadata": {},
   "outputs": [
    {
     "name": "stdout",
     "output_type": "stream",
     "text": [
      "The Bowler With Max no's of Scores is as Follows : \n",
      "1's :  Harbhajan Singh\n",
      "2's :  DJ Bravo\n",
      "3's :  P Kumar\n",
      "4's :  UT Yadav\n",
      "6's :  PP Chawla\n"
     ]
    }
   ],
   "source": [
    "print(\"The Bowler With Max no's of Scores is as Follows : \") \n",
    "print(f\"1's :  {delivery_file[delivery_file['total_runs']==1]['bowler'].value_counts().index[0]}\")\n",
    "print(f\"2's :  {delivery_file[delivery_file['total_runs']==2]['bowler'].value_counts().index[0]}\")\n",
    "print(f\"3's :  {delivery_file[delivery_file['total_runs']==3]['bowler'].value_counts().index[0]}\")\n",
    "print(f\"4's :  {delivery_file[delivery_file['total_runs']==4]['bowler'].value_counts().index[0]}\")\n",
    "print(f\"6's :  {delivery_file[delivery_file['total_runs']==6]['bowler'].value_counts().index[0]}\")\n",
    "            "
   ]
  },
  {
   "cell_type": "code",
   "execution_count": null,
   "metadata": {},
   "outputs": [],
   "source": []
  },
  {
   "cell_type": "markdown",
   "metadata": {},
   "source": [
    "# Question 7"
   ]
  },
  {
   "cell_type": "code",
   "execution_count": 44,
   "metadata": {},
   "outputs": [
    {
     "name": "stdout",
     "output_type": "stream",
     "text": [
      "SK Raina\n"
     ]
    }
   ],
   "source": [
    "print(delivery_file[delivery_file['dismissal_kind']==\"stumped\"]['batsman'].value_counts().index[0])\n"
   ]
  },
  {
   "cell_type": "code",
   "execution_count": null,
   "metadata": {},
   "outputs": [],
   "source": []
  },
  {
   "cell_type": "markdown",
   "metadata": {},
   "source": [
    "# Question 8"
   ]
  },
  {
   "cell_type": "code",
   "execution_count": 45,
   "metadata": {},
   "outputs": [
    {
     "name": "stdout",
     "output_type": "stream",
     "text": [
      "AB de Villiers\n",
      "G Gambhir\n",
      "M Vijay\n"
     ]
    }
   ],
   "source": [
    "ans =delivery_file[(delivery_file['non_striker']==delivery_file['player_dismissed']) & (delivery_file['dismissal_kind']==\"run out\")]['non_striker'].value_counts() \n",
    "for i in range(3):\n",
    "    print(ans.index[i])"
   ]
  },
  {
   "cell_type": "code",
   "execution_count": null,
   "metadata": {},
   "outputs": [],
   "source": []
  },
  {
   "cell_type": "markdown",
   "metadata": {},
   "source": [
    "# Question 9"
   ]
  },
  {
   "cell_type": "markdown",
   "metadata": {},
   "source": [
    "## Which Team had won by maximum wicket?\n"
   ]
  },
  {
   "cell_type": "code",
   "execution_count": 46,
   "metadata": {},
   "outputs": [
    {
     "name": "stdout",
     "output_type": "stream",
     "text": [
      "Kolkata Knight Riders\n"
     ]
    }
   ],
   "source": [
    "print(matches_file.iloc[matches_file['win_by_wickets'].idxmax()]['winner'])"
   ]
  },
  {
   "cell_type": "code",
   "execution_count": null,
   "metadata": {},
   "outputs": [],
   "source": []
  },
  {
   "cell_type": "markdown",
   "metadata": {},
   "source": [
    "# Question 10"
   ]
  },
  {
   "cell_type": "markdown",
   "metadata": {},
   "source": [
    "## Count of Team who won the toss and the Match ? "
   ]
  },
  {
   "cell_type": "code",
   "execution_count": 47,
   "metadata": {},
   "outputs": [
    {
     "name": "stdout",
     "output_type": "stream",
     "text": [
      "Chennai Super Kings            57\n",
      "Mumbai Indians                 56\n",
      "Kolkata Knight Riders          53\n",
      "Rajasthan Royals               42\n",
      "Royal Challengers Bangalore    41\n",
      "Kings XI Punjab                35\n",
      "Delhi Daredevils               35\n",
      "Sunrisers Hyderabad            23\n",
      "Deccan Chargers                19\n",
      "Gujarat Lions                  10\n",
      "Delhi Capitals                  7\n",
      "Rising Pune Supergiant          5\n",
      "Kochi Tuskers Kerala            4\n",
      "Pune Warriors                   3\n",
      "Rising Pune Supergiants         3\n",
      "Name: toss_winner, dtype: int64\n"
     ]
    }
   ],
   "source": [
    "print(matches_file[matches_file['toss_winner']==matches_file['winner']]['toss_winner'].value_counts())"
   ]
  },
  {
   "cell_type": "code",
   "execution_count": null,
   "metadata": {},
   "outputs": [],
   "source": []
  },
  {
   "cell_type": "markdown",
   "metadata": {},
   "source": [
    "## Question 11"
   ]
  },
  {
   "cell_type": "markdown",
   "metadata": {},
   "source": [
    "## Most Common 3rd Umpire ?"
   ]
  },
  {
   "cell_type": "code",
   "execution_count": 48,
   "metadata": {},
   "outputs": [
    {
     "name": "stdout",
     "output_type": "stream",
     "text": [
      "Index(['C Shamshuddin', 'O Nandan', 'Nitin Menon'], dtype='object')\n"
     ]
    }
   ],
   "source": [
    "print(matches_file[~(matches_file[\"umpire3\"].isnull() )]['umpire3'].value_counts().index[0:3])"
   ]
  },
  {
   "cell_type": "code",
   "execution_count": null,
   "metadata": {},
   "outputs": [],
   "source": []
  },
  {
   "cell_type": "markdown",
   "metadata": {},
   "source": [
    "# Question 12\n"
   ]
  },
  {
   "cell_type": "markdown",
   "metadata": {},
   "source": [
    "## Most Common PlayGround"
   ]
  },
  {
   "cell_type": "code",
   "execution_count": 49,
   "metadata": {},
   "outputs": [
    {
     "name": "stdout",
     "output_type": "stream",
     "text": [
      "Eden Gardens\n"
     ]
    }
   ],
   "source": [
    "print(matches_file['venue'].value_counts().index[0])"
   ]
  },
  {
   "cell_type": "code",
   "execution_count": null,
   "metadata": {},
   "outputs": [],
   "source": []
  },
  {
   "cell_type": "markdown",
   "metadata": {},
   "source": [
    "# Question 13\n"
   ]
  },
  {
   "cell_type": "markdown",
   "metadata": {},
   "source": [
    "## How Many Matches had to be stopped in mid ?"
   ]
  },
  {
   "cell_type": "code",
   "execution_count": 50,
   "metadata": {},
   "outputs": [
    {
     "name": "stdout",
     "output_type": "stream",
     "text": [
      "The number of matches that had to be stopped : 19\n"
     ]
    }
   ],
   "source": [
    "print(\"The number of matches that had to be stopped \" ,matches_file['dl_applied'].sum() , sep =\": \")"
   ]
  },
  {
   "cell_type": "code",
   "execution_count": null,
   "metadata": {},
   "outputs": [],
   "source": []
  },
  {
   "cell_type": "markdown",
   "metadata": {},
   "source": [
    "# Question 14"
   ]
  },
  {
   "cell_type": "markdown",
   "metadata": {},
   "source": [
    "## The number of Virat kohli was Run out"
   ]
  },
  {
   "cell_type": "code",
   "execution_count": 51,
   "metadata": {},
   "outputs": [
    {
     "name": "stdout",
     "output_type": "stream",
     "text": [
      "6\n"
     ]
    }
   ],
   "source": [
    "print(delivery_file[(delivery_file[\"player_dismissed\"]=='V Kohli') & (delivery_file['dismissal_kind']=='run out')]['player_dismissed'].count().sum())"
   ]
  },
  {
   "cell_type": "code",
   "execution_count": null,
   "metadata": {},
   "outputs": [],
   "source": []
  },
  {
   "cell_type": "code",
   "execution_count": null,
   "metadata": {},
   "outputs": [],
   "source": []
  },
  {
   "cell_type": "code",
   "execution_count": null,
   "metadata": {},
   "outputs": [],
   "source": []
  }
 ],
 "metadata": {
  "kernelspec": {
   "display_name": "Python 3",
   "language": "python",
   "name": "python3"
  },
  "language_info": {
   "codemirror_mode": {
    "name": "ipython",
    "version": 3
   },
   "file_extension": ".py",
   "mimetype": "text/x-python",
   "name": "python",
   "nbconvert_exporter": "python",
   "pygments_lexer": "ipython3",
   "version": "3.7.1"
  }
 },
 "nbformat": 4,
 "nbformat_minor": 2
}
